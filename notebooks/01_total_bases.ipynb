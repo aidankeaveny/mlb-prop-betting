{
 "cells": [
  {
   "cell_type": "code",
   "execution_count": 53,
   "id": "c784db9a",
   "metadata": {},
   "outputs": [
    {
     "name": "stdout",
     "output_type": "stream",
     "text": [
      "Device: mps\n"
     ]
    }
   ],
   "source": [
    "# Add src to sys.path\n",
    "import sys\n",
    "import os\n",
    "sys.path.append(os.path.abspath(\"../src\"))\n",
    "\n",
    "import importlib\n",
    "import data_utils, model_utils, shap_utils, ensemble_utils\n",
    "importlib.reload(data_utils)\n",
    "importlib.reload(model_utils)\n",
    "importlib.reload(shap_utils)\n",
    "importlib.reload(ensemble_utils)\n",
    "\n",
    "from config import TARGET_VAR, set_seed, device\n",
    "from data_utils import load_batting_years, build_feature_dataset\n",
    "from model_utils import PlayerMLP\n",
    "from shap_utils import explain_shap, get_top_shap_features\n",
    "from ensemble_utils import load_ensemble_and_predict\n",
    "\n",
    "import torch\n",
    "import joblib\n",
    "import numpy as np\n",
    "import pandas as pd\n",
    "from sklearn.metrics import mean_absolute_error, mean_squared_error\n",
    "import matplotlib.pyplot as plt\n",
    "\n",
    "set_seed()\n",
    "print(\"Device:\", device)\n"
   ]
  },
  {
   "cell_type": "code",
   "execution_count": null,
   "id": "00b2efe4",
   "metadata": {},
   "outputs": [
    {
     "name": "stdout",
     "output_type": "stream",
     "text": [
      "✅ Using build_feature_dataset with extended feature engineering\n",
      "Processing year 2000...\n",
      "Processing year 2001...\n",
      "Processing year 2002...\n",
      "❌ Skipping 2002 due to error: Reindexing only valid with uniquely valued Index objects\n",
      "Processing year 2003...\n",
      "Processing year 2004...\n",
      "❌ Skipping 2004 due to error: Reindexing only valid with uniquely valued Index objects\n",
      "Processing year 2005...\n",
      "Processing year 2006...\n",
      "Processing year 2007...\n",
      "Processing year 2008...\n",
      "Processing year 2009...\n",
      "Processing year 2010...\n",
      "Processing year 2011...\n",
      "Processing year 2012...\n",
      "Processing year 2013...\n",
      "Processing year 2014...\n",
      "Processing year 2015...\n",
      "Processing year 2016...\n",
      "Processing year 2017...\n",
      "Processing year 2018...\n",
      "Processing year 2019...\n",
      "Processing year 2020...\n",
      "Processing year 2021...\n",
      "Processing year 2022...\n",
      "Processing year 2023...\n"
     ]
    }
   ],
   "source": [
    "years = load_batting_years()\n",
    "dataset = build_feature_dataset(years, target_var=TARGET_VAR)\n",
    "\n",
    "X_train = dataset['X_train']\n",
    "y_train = dataset['y_train']\n",
    "X_test = dataset['X_test']\n",
    "y_test = dataset['y_test']\n",
    "features = dataset['fe atures']\n",
    "scaler = dataset['scaler']\n"
   ]
  },
  {
   "cell_type": "code",
   "execution_count": 55,
   "id": "c1b662ac",
   "metadata": {},
   "outputs": [
    {
     "name": "stdout",
     "output_type": "stream",
     "text": [
      "MLP for Total Bases → MAE: 116.9014, RMSE: 502.2217\n"
     ]
    }
   ],
   "source": [
    "hidden_dims = [128, 64]\n",
    "dropout = 0.3\n",
    "activation = 'relu'\n",
    "lr = 0.001\n",
    "epochs = 100\n",
    "batch_size = 64\n",
    "\n",
    "model = PlayerMLP(X_train.shape[1], hidden_dims, dropout=dropout, activation=activation).to(device)\n",
    "optimizer = torch.optim.Adam(model.parameters(), lr=lr)\n",
    "loss_fn = torch.nn.MSELoss()\n",
    "\n",
    "for epoch in range(epochs):\n",
    "    model.train()\n",
    "    for i in range(0, len(X_train), batch_size):\n",
    "        xb = X_train[i:i+batch_size].to(device)\n",
    "        yb = y_train[i:i+batch_size].to(device)\n",
    "        optimizer.zero_grad()\n",
    "        loss = loss_fn(model(xb), yb)\n",
    "        loss.backward()\n",
    "        optimizer.step()\n",
    "\n",
    "# Evaluate\n",
    "model.eval()\n",
    "with torch.no_grad():\n",
    "    preds = model(X_test.to(device)).cpu().numpy().flatten()\n",
    "    y_true = y_test.cpu().numpy().flatten()\n",
    "    mae = mean_absolute_error(y_true, preds)\n",
    "    rmse = mean_squared_error(y_true, preds) ** 0.5\n",
    "\n",
    "print(f\"MLP for Total Bases → MAE: {mae:.4f}, RMSE: {rmse:.4f}\")\n"
   ]
  },
  {
   "cell_type": "code",
   "execution_count": 57,
   "id": "68cb56fe",
   "metadata": {},
   "outputs": [
    {
     "name": "stderr",
     "output_type": "stream",
     "text": [
      "Permutation explainer: 340it [03:42,  1.46it/s]                         "
     ]
    },
    {
     "name": "stdout",
     "output_type": "stream",
     "text": [
      "Top SHAP Features: ['Pos_3.7', 'Pos_11.0', 'Age Rng_recency', 'Age_recency', 'wRC+_w2_recency', 'Pos_8.8', 'Pos_3.8', 'Pos_10.3', 'Pos_10.6', 'wOBA_y1', 'Pos_8.4', 'wRC+_y1', 'R_mean', 'SL-Z (sc)_recency', 'wRC+_w1_recency', 'Pos_', 'CH-Z (sc)_recency', 'SLG_std', 'Hard%_w1_recency', 'CU-Z (sc)_recency']\n"
     ]
    },
    {
     "name": "stderr",
     "output_type": "stream",
     "text": [
      "\n"
     ]
    }
   ],
   "source": [
    "model = model.to('cpu')\n",
    "shap_values = explain_shap(model, X_test.cpu().numpy(), features)\n",
    "top_features, shap_df = get_top_shap_features(shap_values, features, top_n=20)\n",
    "\n",
    "shap_df.to_csv(f\"../output/shap_summary_{TARGET_VAR}.csv\", index=False)\n",
    "print(\"Top SHAP Features:\", top_features)\n"
   ]
  },
  {
   "cell_type": "code",
   "execution_count": 58,
   "id": "c734fae7",
   "metadata": {},
   "outputs": [
    {
     "data": {
      "text/plain": [
       "['../models/total_bases/features.joblib']"
      ]
     },
     "execution_count": 58,
     "metadata": {},
     "output_type": "execute_result"
    }
   ],
   "source": [
    "os.makedirs(\"../models/total_bases\", exist_ok=True)\n",
    "torch.save(model.state_dict(), f\"../models/total_bases/mlp_model_0.pt\")\n",
    "joblib.dump(scaler, f\"../models/total_bases/scaler.joblib\")\n",
    "joblib.dump(features, f\"../models/total_bases/features.joblib\")\n"
   ]
  },
  {
   "cell_type": "code",
   "execution_count": 59,
   "id": "db5b28a6",
   "metadata": {},
   "outputs": [
    {
     "name": "stdout",
     "output_type": "stream",
     "text": [
      "Loaded predictions: [199.14896   99.272995 260.773    288.02908  217.83435 ]\n"
     ]
    }
   ],
   "source": [
    "X_input = X_test.cpu().numpy()\n",
    "predictions = load_ensemble_and_predict(\n",
    "    X_input_np=X_input,\n",
    "    device=device,\n",
    "    model_class=PlayerMLP,\n",
    "    configs=[(hidden_dims, lr, epochs, batch_size, dropout, 0.2, activation, 'plateau')],\n",
    "    model_dir=\"../models/total_bases\",\n",
    "    feature_count=X_input.shape[1]\n",
    ")\n",
    "\n",
    "print(\"Loaded predictions:\", predictions[:5])\n"
   ]
  }
 ],
 "metadata": {
  "kernelspec": {
   "display_name": ".venv310",
   "language": "python",
   "name": "python3"
  },
  "language_info": {
   "codemirror_mode": {
    "name": "ipython",
    "version": 3
   },
   "file_extension": ".py",
   "mimetype": "text/x-python",
   "name": "python",
   "nbconvert_exporter": "python",
   "pygments_lexer": "ipython3",
   "version": "3.10.10"
  }
 },
 "nbformat": 4,
 "nbformat_minor": 5
}
